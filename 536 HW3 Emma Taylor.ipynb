{
 "cells": [
  {
   "cell_type": "code",
   "execution_count": null,
   "id": "ad3d59f9",
   "metadata": {},
   "outputs": [],
   "source": [
    "### 536 Homework 3 by Emma Taylor\n",
    "\n",
    "### Part 1: True or False\n",
    "\n",
    "### 1. True or False: The size of a statistical test is probability of a Type II error under the alternative \n",
    "### hypothesis.  \n",
    "### Answer: False. The size of a statistical test is in fact the largest possible probability of rejecting the \n",
    "### null hypothesis when it is true in actuality. In simple statistical tests, we fix the size of the test at \n",
    "### alpha, the significance level. \n",
    "\n",
    "### 2. True or False: The power of a statistical test is probability of a Type I error under the null hypothesis.  \n",
    "### Answer: True. Under the null hypothesis, this is true. Under the alternative hypothesis,\n",
    "### power is equal to 1 - P(Type 2 Error).\n",
    "\n",
    "### 3. True or False: An unbiased test is a test wherein the power function under the alternative hypotheses \n",
    "### approaches 1 as the sample size goes to infinity.\n",
    "### Answer: True. Under the alternative hypothesis, the power function defines the probability of not making a \n",
    "### Type II error.\n",
    "### So, if our power under the alternative hypothesis goes to 1 as sample size increases, \n",
    "### our probability of making a Type II error goes to 0. We define an unbiased test as being a test in which \n",
    "### the size of the test is less than or equal to the lower bound of the power function under the alternative\n",
    "### hypothesis. If we take power to be approaching one, it will be higher than the size of our test, and the\n",
    "### test will be unbiased."
   ]
  },
  {
   "cell_type": "code",
   "execution_count": 9,
   "id": "9ace2d52",
   "metadata": {},
   "outputs": [
    {
     "name": "stdout",
     "output_type": "stream",
     "text": [
      "      YR  QRT       Q1       Q2       Q3        P1     P2      P3\n",
      "0   1982    2  18.7968  12.2607  12.8340  242.9667  179.2   72.13\n",
      "1   1982    3  19.9882  11.5797  12.9951  244.0333  195.7   72.33\n",
      "2   1982    4  19.4242  12.5368  11.8858  233.1333  198.0   69.20\n",
      "3   1983    1  19.2252  12.1140  12.4026  233.8667  193.6   69.53\n",
      "4   1983    2  19.3361  12.7472  13.1290  240.9333  181.0   68.73\n",
      "..   ...  ...      ...      ...      ...       ...    ...     ...\n",
      "60  1997    2  17.2994  11.5617  18.7398  278.9667  243.1  100.07\n",
      "61  1997    3  17.0513  12.0187  18.4364  281.0667  248.1   99.50\n",
      "62  1997    4  16.2354  13.3464  17.6350  279.3000  244.4  100.10\n",
      "63  1998    1  16.6884  12.7173  17.4640  273.4667  245.6  102.03\n",
      "64  1998    2  17.1985  12.3142  18.1367  278.1000  239.8  102.57\n",
      "\n",
      "[65 rows x 8 columns]\n"
     ]
    }
   ],
   "source": [
    "### Part 2: Empirical Exercise\n",
    "\n",
    "### import packages\n",
    "import numpy as np\n",
    "import pandas as pd\n",
    "import patsy as pt\n",
    "import statsmodels.formula.api as smf\n",
    "\n",
    "### import data\n",
    "df = pd.read_excel(r'C:\\Users\\emmat\\Downloads\\HW3.xls')\n",
    "print(df)"
   ]
  },
  {
   "cell_type": "code",
   "execution_count": 2,
   "id": "ffc966a2",
   "metadata": {},
   "outputs": [
    {
     "name": "stdout",
     "output_type": "stream",
     "text": [
      "Data_summary:\n",
      "                YR        QRT         Q1         Q2         Q3          P1  \\\n",
      "count    65.000000  65.000000  65.000000  65.000000  65.000000   65.000000   \n",
      "mean   1989.876923   2.492308  17.825522  12.738794  15.497051  262.869746   \n",
      "std       4.741795   1.119753   1.394193   0.676006   2.111172   24.216184   \n",
      "min    1982.000000   1.000000  15.891500  11.561700  11.690300  222.733300   \n",
      "25%    1986.000000   2.000000  16.688400  12.260700  13.785100  238.466700   \n",
      "50%    1990.000000   2.000000  17.377500  12.717300  15.146600  273.466700   \n",
      "75%    1994.000000   3.000000  19.058600  13.104400  17.464000  283.100000   \n",
      "max    1998.000000   4.000000  20.817500  14.491800  18.739800  300.400000   \n",
      "\n",
      "               P2          P3  \n",
      "count   65.000000   65.000000  \n",
      "mean   204.595385   86.617231  \n",
      "std     22.735424    8.918097  \n",
      "min    167.800000   68.730000  \n",
      "25%    190.500000   77.770000  \n",
      "50%    204.800000   88.200000  \n",
      "75%    216.400000   91.200000  \n",
      "max    248.100000  102.570000  \n",
      "\n"
     ]
    }
   ],
   "source": [
    "### a) Report descriptive statistics (mean, min, max, and standard deviation) for each of \n",
    "### the untransformed variables in the data set. \n",
    "Data_summary = df.describe()\n",
    "print(f'Data_summary:\\n{Data_summary}\\n')"
   ]
  },
  {
   "cell_type": "code",
   "execution_count": null,
   "id": "c04531b4",
   "metadata": {},
   "outputs": [],
   "source": [
    "### b) What is the ML estimator for the parameters of the consumer demand model? \n",
    "### Under the assumption of normality, ML maintains the same parameter estimator as OLS, so B^(ML) = (x'x)^-1*x'y."
   ]
  },
  {
   "cell_type": "code",
   "execution_count": 12,
   "id": "cefb2278",
   "metadata": {},
   "outputs": [
    {
     "name": "stdout",
     "output_type": "stream",
     "text": [
      "df.head(): \n",
      "     YR  QRT       Q1       Q2       Q3        P1     P2     P3  QRT1  QRT2  \\\n",
      "0  1982    2  18.7968  12.2607  12.8340  242.9667  179.2  72.13     0     1   \n",
      "1  1982    3  19.9882  11.5797  12.9951  244.0333  195.7  72.33     0     0   \n",
      "2  1982    4  19.4242  12.5368  11.8858  233.1333  198.0  69.20     0     0   \n",
      "3  1983    1  19.2252  12.1140  12.4026  233.8667  193.6  69.53     1     0   \n",
      "4  1983    2  19.3361  12.7472  13.1290  240.9333  181.0  68.73     0     1   \n",
      "\n",
      "   QRT3  QRT4            M      lnP1      lnP2      lnP3       lnM  \n",
      "0     0     0  7689.830327  5.492924  5.188503  4.278470  8.947654  \n",
      "1     1     0  8083.869280  5.497305  5.276583  4.281239  8.997626  \n",
      "2     0     1  7833.211606  5.451610  5.288267  4.237001  8.966128  \n",
      "3     0     0  7703.757259  5.454751  5.265794  4.241758  8.949463  \n",
      "4     0     0  7868.309752  5.484520  5.198497  4.230186  8.970599  \n",
      "\n"
     ]
    }
   ],
   "source": [
    "### c) Report your ML estimates and t-values for each parameter. Explain. Interpret \n",
    "### both economically and statistically your regression results.   \n",
    "\n",
    "dummy = pd.get_dummies(df['QRT'])\n",
    "df = pd.concat([df,dummy], axis=1)\n",
    "df['M'] = (df['Q1']*df['P1']) + (df['Q2']*df['P2']) + (df['Q3']*df['P3'])\n",
    "df = df.rename(columns = {\"1\": \"QRT1\", \"2\":\"QRT2\", \"3\": \"QRT3\", \"4\":\"QRT4\"})\n",
    "df.columns = ['YR', 'QRT', 'Q1', 'Q2', 'Q3', 'P1', 'P2', 'P3', 'QRT1', 'QRT2', 'QRT3', 'QRT4', 'M']\n",
    "\n",
    "df['lnP1'] = np.log(df['P1'])\n",
    "df['lnP2'] = np.log(df['P2'])\n",
    "df['lnP3'] = np.log(df['P3'])\n",
    "df['lnM'] = np.log(df['M'])\n",
    "df.columns = ['YR', 'QRT', 'Q1', 'Q2', 'Q3', 'P1', 'P2', 'P3', 'QRT1', 'QRT2', 'QRT3', 'QRT4', 'M', 'lnP1', 'lnP2', 'lnP3', 'lnM']\n",
    "print(f'df.head(): \\n{df.head()}\\n')"
   ]
  },
  {
   "cell_type": "code",
   "execution_count": 6,
   "id": "feaa45e0",
   "metadata": {},
   "outputs": [
    {
     "name": "stdout",
     "output_type": "stream",
     "text": [
      "X.head(): \n",
      "   Intercept      lnP1      lnP2      lnP3       lnM  QRT1  QRT2  QRT3\n",
      "0        1.0  5.492924  5.188503  4.278470  8.947654   0.0   1.0   0.0\n",
      "1        1.0  5.497305  5.276583  4.281239  8.997626   0.0   0.0   1.0\n",
      "2        1.0  5.451610  5.288267  4.237001  8.966128   0.0   0.0   0.0\n",
      "3        1.0  5.454751  5.265794  4.241758  8.949463   1.0   0.0   0.0\n",
      "4        1.0  5.484520  5.198497  4.230186  8.970599   0.0   1.0   0.0\n",
      "\n",
      "b: \n",
      "[[ 43.57751907]\n",
      " [-16.33121188]\n",
      " [ -2.58176033]\n",
      " [ -2.96348604]\n",
      " [ 10.11556133]\n",
      " [  0.19446076]\n",
      " [  0.69371226]\n",
      " [  0.96536504]]\n",
      "\n",
      "SER: \n",
      "[[0.28895604]]\n",
      "\n",
      "se: [12.06952886  1.17088826  0.76316745  0.71327161  2.43626646  0.11484872\n",
      "  0.1019669   0.1061786 ]\n",
      "\n",
      " \n",
      "[[ 3.61054019e+00  3.72174875e+01  5.71008615e+01  6.10952661e+01\n",
      "   1.78870086e+01  3.79434092e+02  4.27369253e+02  4.10417161e+02]\n",
      " [-1.35309440e+00 -1.39477117e+01 -2.13992510e+01 -2.28962033e+01\n",
      "  -6.70337672e+00 -1.42197598e+02 -1.60161890e+02 -1.53808885e+02]\n",
      " [-2.13907300e-01 -2.20495877e+00 -3.38295392e+00 -3.61960335e+00\n",
      "  -1.05972001e+00 -2.24796617e+01 -2.53195915e+01 -2.43152609e+01]\n",
      " [-2.45534525e-01 -2.53097255e+00 -3.88313996e+00 -4.15477916e+00\n",
      "  -1.21640473e+00 -2.58033880e+01 -2.90632152e+01 -2.79103894e+01]\n",
      " [ 8.38107390e-01  8.63922007e+00  1.32547074e+01  1.41819205e+01\n",
      "   4.15207511e+00  8.80772681e+01  9.92043600e+01  9.52693052e+01]\n",
      " [ 1.61117112e-02  1.66079694e-01  2.54807464e-01  2.72632136e-01\n",
      "   7.98191687e-02  1.69319055e+00  1.90709689e+00  1.83144971e+00]\n",
      " [ 5.74763328e-02  5.92466662e-01  9.08990883e-01  9.72577968e-01\n",
      "   2.84744000e-01  6.04022639e+00  6.80330811e+00  6.53344709e+00]\n",
      " [ 7.99836553e-02  8.24472387e-01  1.26494524e+00  1.35343257e+00\n",
      "   3.96247722e-01  8.40553602e+00  9.46743512e+00  9.09189844e+00]]\n",
      "\n",
      "tstats: \n",
      "[  3.61054019 -13.94771173  -3.38295392  -4.15477916   4.15207511\n",
      "   1.69319055   6.80330811   9.09189844]\n",
      "\n"
     ]
    }
   ],
   "source": [
    "### c continued\n",
    "\n",
    "### GLM model\n",
    "y, X = pt.dmatrices('Q1 ~ lnP1 + lnP2 + lnP3 + lnM + QRT1 + QRT2 + QRT3', data=df, return_type='dataframe')\n",
    "print(f'X.head(): \\n{X.head()}\\n')\n",
    "n=len(df)\n",
    "\n",
    "### beta MLE\n",
    "X = np.array(X)\n",
    "y = np.array(y).reshape(n,1)\n",
    "b = np.linalg.inv(X.T @ X) @ X.T @ y\n",
    "print(f'b: \\n{b}\\n')\n",
    "\n",
    "### variance MLE (biased)\n",
    "u_hat = y - X @ b\n",
    "sigsq_hat = (u_hat.T @ u_hat) / n\n",
    "SER = np.sqrt(sigsq_hat)\n",
    "print(f'SER: \\n{SER}\\n')\n",
    "\n",
    "Vbeta_hat = sigsq_hat * np.linalg.inv(X.T @ X)\n",
    "se = np.sqrt(np.diagonal(Vbeta_hat))\n",
    "print(f'se: {se}\\n')\n",
    "\n",
    "div_vec = np.divide(b , se)\n",
    "print(f' \\n{div_vec}\\n')\n",
    "\n",
    "tstats = np.diagonal(div_vec)\n",
    "print(f'tstats: \\n{tstats}\\n')\n",
    "\n",
    "### Interpretation:\n",
    "### This model has 7 statistically significant coefficients and 1 statistically insignificant coefficient.\n",
    "### All variables (including the constant, here understood as = QRT4) are significant except QRT1. \n",
    "### This was determined by looking at the absolute values of the t-stats, where the absolute values of the\n",
    "### t-stats that are greater than 1.96 are statistically significant at a .05 level. \n",
    "### From the betas, we can see that the price of good 1 has the largest affect on consumption of good 1.\n",
    "### This is consistent with economy theory, and the negative sign of the price follows the law of demand.\n",
    "### The coefficient implies that for a one percent increase in the price of good 1, consumption of good 1\n",
    "### will decreas by .163 units.\n",
    "### All three price coefficients follow this pattern. \n",
    "### We also see that total expenditure and consumption of good 1 are positively correlated. This follows\n",
    "### the theory of income, where increased income will increase consumption. A one percent increase in\n",
    "### total expenditure will increase consumption of good 1 by .10 units. \n",
    "### For our quarterly dummy variables, we can see that consumption of good is lowest in QRT4, followed by QRT1,\n",
    "### then QRT2, and  QRT3 has the highest consumption of good 1. Maybe good 1 is a seasonal vegetable that peaks\n",
    "### in summer, like yellow squash."
   ]
  },
  {
   "cell_type": "code",
   "execution_count": null,
   "id": "14049d63",
   "metadata": {},
   "outputs": [],
   "source": [
    "### d) Is your ML of the regression parameters B=[...]'\n",
    "### in part c) unbiased, consistent, and asymptotically normally distributed? Explain. \n",
    "\n",
    "### The regression parameter estimates of MLE are unbiased, consistent, and asymptotically normally distributed\n",
    "### because they are equivalent to the OLS estimates, which are BLUE and normal as the underlying distribution is\n",
    "### as well."
   ]
  },
  {
   "cell_type": "code",
   "execution_count": 13,
   "id": "f5470b82",
   "metadata": {},
   "outputs": [
    {
     "name": "stdout",
     "output_type": "stream",
     "text": [
      "results.summary(): \n",
      "                            OLS Regression Results                            \n",
      "==============================================================================\n",
      "Dep. Variable:                     Q1   R-squared:                       0.956\n",
      "Model:                            OLS   Adj. R-squared:                  0.951\n",
      "Method:                 Least Squares   F-statistic:                     178.5\n",
      "Date:                Thu, 03 Mar 2022   Prob (F-statistic):           2.32e-36\n",
      "Time:                        16:53:05   Log-Likelihood:                -11.535\n",
      "No. Observations:                  65   AIC:                             39.07\n",
      "Df Residuals:                      57   BIC:                             56.46\n",
      "Df Model:                           7                                         \n",
      "Covariance Type:            nonrobust                                         \n",
      "==============================================================================\n",
      "                 coef    std err          t      P>|t|      [0.025      0.975]\n",
      "------------------------------------------------------------------------------\n",
      "Intercept     43.5775     12.889      3.381      0.001      17.768      69.387\n",
      "lnP1         -16.3312      1.250    -13.061      0.000     -18.835     -13.827\n",
      "lnP2          -2.5818      0.815     -3.168      0.002      -4.214      -0.950\n",
      "lnP3          -2.9635      0.762     -3.891      0.000      -4.489      -1.438\n",
      "lnM           10.1156      2.602      3.888      0.000       4.906      15.325\n",
      "QRT1           0.1945      0.123      1.586      0.118      -0.051       0.440\n",
      "QRT2           0.6937      0.109      6.371      0.000       0.476       0.912\n",
      "QRT3           0.9654      0.113      8.514      0.000       0.738       1.192\n",
      "==============================================================================\n",
      "Omnibus:                        1.213   Durbin-Watson:                   1.154\n",
      "Prob(Omnibus):                  0.545   Jarque-Bera (JB):                1.261\n",
      "Skew:                           0.296   Prob(JB):                        0.532\n",
      "Kurtosis:                       2.660   Cond. No.                     4.39e+03\n",
      "==============================================================================\n",
      "\n",
      "Notes:\n",
      "[1] Standard Errors assume that the covariance matrix of the errors is correctly specified.\n",
      "[2] The condition number is large, 4.39e+03. This might indicate that there are\n",
      "strong multicollinearity or other numerical problems.\n",
      "\n",
      "fpval: 2.5575440300809842e-17\n",
      "\n"
     ]
    }
   ],
   "source": [
    "### e) Specify and test the null hypothesis that prices have not impact on quantity \n",
    "### demanded. \n",
    "\n",
    "### OLS regression so I can carry out an F test\n",
    "reg = smf.ols(formula='Q1 ~ lnP1 + lnP2 + lnP3 + lnM + QRT1 + QRT2 + QRT3', data=df)\n",
    "results = reg.fit()\n",
    "print(f'results.summary(): \\n{results.summary()}\\n')\n",
    "\n",
    "\n",
    "hypotheses = ['lnP1 = 0', 'lnP2 = 0', 'lnP3 = 0']\n",
    "ftest = results.f_test(hypotheses)\n",
    "fpval = ftest.pvalue\n",
    "print(f'fpval: {fpval}\\n')\n",
    "\n",
    "### P-value of F-test is 0, we reject the null hypothesis and conclude that prices do have an impact\n",
    "### on quantity demanded."
   ]
  },
  {
   "cell_type": "code",
   "execution_count": null,
   "id": "20a58c14",
   "metadata": {},
   "outputs": [],
   "source": [
    "### f) Report the ML estimate for the variance.  Is it unbiased or consistent? \n",
    "### Explain. \n",
    "\n",
    "### Variance output is in part c. It is biased and inconsistent because it does not adjust for number of \n",
    "### variables k."
   ]
  },
  {
   "cell_type": "code",
   "execution_count": null,
   "id": "61285cbf",
   "metadata": {},
   "outputs": [],
   "source": [
    "### g) Report (and interpret) the adjusted R-square value.\n",
    "\n",
    "### Adj R^2 = 0.951\n",
    "### 95.1% of the variation in quantity of good 1 demanded is explained by the independent variables in the model."
   ]
  },
  {
   "cell_type": "code",
   "execution_count": 14,
   "id": "6a206131",
   "metadata": {},
   "outputs": [
    {
     "name": "stdout",
     "output_type": "stream",
     "text": [
      "-5.100661134209702\n",
      "-0.7698054723109933\n",
      "-0.740835349281777\n"
     ]
    }
   ],
   "source": [
    "### h) Report your ML estimates of the price elasticities at the mean. Explain. Interpret\n",
    "### both economically and statistically your results. \n",
    "\n",
    "lnp1_em = (5.567377/17.825522)*(-16.3312) \n",
    "print(lnp1_em)\n",
    "\n",
    "lnp2_em = (5.314968/17.825522)*(-2.5818) \n",
    "print(lnp2_em)\n",
    "\n",
    "lnp3_em = (4.456142/17.825522)*(-2.9635) \n",
    "print(lnp3_em)\n",
    "\n",
    "### The price elasticity of P1 implies that good 1 is an elastic good, and the cross price elasticities \n",
    "### of goods 2 and 3 imply that these goods are compliments."
   ]
  },
  {
   "cell_type": "code",
   "execution_count": null,
   "id": "e5cc0c3f",
   "metadata": {},
   "outputs": [],
   "source": []
  }
 ],
 "metadata": {
  "kernelspec": {
   "display_name": "Python 3 (ipykernel)",
   "language": "python",
   "name": "python3"
  },
  "language_info": {
   "codemirror_mode": {
    "name": "ipython",
    "version": 3
   },
   "file_extension": ".py",
   "mimetype": "text/x-python",
   "name": "python",
   "nbconvert_exporter": "python",
   "pygments_lexer": "ipython3",
   "version": "3.9.7"
  }
 },
 "nbformat": 4,
 "nbformat_minor": 5
}
